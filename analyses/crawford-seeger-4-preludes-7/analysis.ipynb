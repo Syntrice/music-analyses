{
 "cells": [
  {
   "cell_type": "code",
   "execution_count": 6,
   "metadata": {},
   "outputs": [],
   "source": [
    "# import libraries\n",
    "import music21 as m21\n",
    "import pandas as pd"
   ]
  },
  {
   "cell_type": "code",
   "execution_count": 7,
   "metadata": {},
   "outputs": [],
   "source": [
    "\"\"\" \n",
    "Setup several functions that will be useful when performing set theory analysis.\n",
    "\"\"\"\n",
    "\n",
    "import itertools\n",
    "from typing import List, Union, Sequence\n",
    "\n",
    "def forte_class(\n",
    "    pcset: Union[m21.chord.Chord, Sequence[Union[int, str]]]\n",
    ") -> str:\n",
    "    \"\"\"Returns the Forte class of a pitch class set.\n",
    "\n",
    "    Args:\n",
    "        pcset: The pitch class set to analyze. Can be a Chord object or a sequence of pitch classes.\n",
    "\n",
    "    Returns:\n",
    "        The Forte class of the pitch class set.\n",
    "    \"\"\"\n",
    "    if not isinstance(pcset, m21.chord.Chord):\n",
    "        pcset = m21.chord.Chord(pcset)\n",
    "\n",
    "    return pcset.forteClass\n",
    "\n",
    "def prime_form(\n",
    "    pcset: Union[m21.chord.Chord, Sequence[Union[int, str]]]\n",
    ") -> List[int]:\n",
    "    \"\"\"Returns the prime form of a pitch class set.\n",
    "\n",
    "    Args:\n",
    "        pcset: The pitch class set to analyze. Can be a Chord object or a sequence of pitch classes.\n",
    "\n",
    "    Returns:\n",
    "        The prime form of the pitch class set.\n",
    "    \"\"\"\n",
    "    if not isinstance(pcset, m21.chord.Chord):\n",
    "        pcset = m21.chord.Chord(pcset)\n",
    "\n",
    "    return pcset.primeForm\n",
    "    \n",
    "\n",
    "def normal_order(\n",
    "    pcset: Union[m21.chord.Chord, Sequence[Union[int, str]]],\n",
    "    transposed: bool = False,\n",
    ") -> List[int]:\n",
    "    \"\"\"Returns the normal order of a pitch class set.\n",
    "\n",
    "    Args:\n",
    "        pcset: The pitch class set to analyze. Can be a Chord object or a sequence of pitch classes.\n",
    "\n",
    "    Returns:\n",
    "        The normal order of the pitch class set.\n",
    "    \"\"\"\n",
    "    if not isinstance(pcset, m21.chord.Chord):\n",
    "        pcset = m21.chord.Chord(pcset)\n",
    "        \n",
    "    if transposed:\n",
    "        transposition_interval = pcset.normalOrder[0]\n",
    "        return [(pc - transposition_interval) % 12 for pc in pcset.normalOrder]\n",
    "\n",
    "    return pcset.normalOrder\n",
    "\n",
    "# chromatically invert all intervals of a pitch class set around the root of the normal order\n",
    "def inverted(\n",
    "    pcset: Union[m21.chord.Chord, Sequence[Union[int, str]]],\n",
    "    transposed: bool = False\n",
    ") -> List[int]:\n",
    "    \"\"\"Inverts a pitch class set around the root of the normal order.\n",
    "\n",
    "    Args:\n",
    "        pcset: The pitch class set to invert. Can be a Chord object or a sequence of pitch classes.\n",
    "        transposed: If True, the pitch class set is transposed to T=0 (C)\n",
    "\n",
    "    Returns:\n",
    "        The inverted pitch class set.\n",
    "    \"\"\"\n",
    "    if not isinstance(pcset, m21.chord.Chord):\n",
    "        pcset = m21.chord.Chord(pcset)\n",
    "    \n",
    "    # invert around the root of the normal order\n",
    "    normal_order = pcset.normalOrder\n",
    "    \n",
    "    root = normal_order[0]\n",
    "    inverted = [(root - pc) % 12 for pc in normal_order]\n",
    "    \n",
    "    inverted = m21.chord.Chord(inverted)\n",
    "            \n",
    "    if transposed:\n",
    "        transposition_interval = inverted.normalOrder[0]\n",
    "        return [(pc - transposition_interval) % 12 for pc in inverted.normalOrder]\n",
    "\n",
    "    return inverted.normalOrder\n",
    "\n",
    "def complement(\n",
    "    pcset: Union[m21.chord.Chord, Sequence[Union[int, str]]],\n",
    "    transposed: bool = False\n",
    ") -> List[int]:\n",
    "    \"\"\"Returns the complement of a pitch class set. That is, the set created from of all pitch classes not in the original set.\n",
    "\n",
    "    Args:\n",
    "        pcset: The pitch class set to analyze. Can be a Chord object or a sequence of pitch classes.\n",
    "        transposed: If True, the pitch class set is transposed to T=0 (C)\n",
    "        \n",
    "    Returns:\n",
    "        The complement of the pitch class set.\n",
    "    \"\"\"\n",
    "    \n",
    "    if not isinstance(pcset, m21.chord.Chord):\n",
    "        pcset = m21.chord.Chord(pcset)\n",
    "    \n",
    "    normal_order = pcset.normalOrder\n",
    "    \n",
    "    complement = []\n",
    "    for pc in set(range(12)):\n",
    "        if pc not in normal_order:\n",
    "            complement.append(pc)\n",
    "    \n",
    "    complement = m21.chord.Chord(complement)\n",
    "    \n",
    "    if transposed:\n",
    "        transposition_interval = complement.normalOrder[0]\n",
    "        return [(pc - transposition_interval) % 12 for pc in complement.normalOrder]\n",
    "    \n",
    "    return complement.normalOrder\n",
    "\n",
    "def subsetscalc(\n",
    "    pcset: Union[m21.chord.Chord, Sequence[Union[int, str]]]\n",
    ") -> List[str]:\n",
    "    \"\"\"Returns all subsets of a pitch class set.\n",
    "\n",
    "    Args:\n",
    "        pcset: The pitch class set to analyze. Can be a Chord object or a sequence of pitch.\n",
    "        transposed: If True, the pitch class set is transposed to T=0 (C).\n",
    "        \n",
    "    Returns:\n",
    "        A list of all subsets of the pitch class set, given in forte numbers.\n",
    "    \"\"\"\n",
    "    \n",
    "    if not isinstance(pcset, m21.chord.Chord):\n",
    "        pcset = m21.chord.Chord(pcset)\n",
    "    \n",
    "    subsets = []\n",
    "    \n",
    "    found = set()\n",
    "    for cardinal in range(len(pcset.pitches)-1, 2, -1):\n",
    "        for combination in itertools.combinations(pcset.pitches, cardinal):\n",
    "            subset = m21.chord.Chord(m21.chord.Chord(combination))\n",
    "            \n",
    "            if subset.primeFormString in found:\n",
    "                continue    \n",
    "            \n",
    "            found.add(subset.primeFormString)\n",
    "            \n",
    "            subsets.append(subset.forteClassTnI)\n",
    "            \n",
    "    return subsets\n",
    "\n",
    "def t_operator(\n",
    "    pcset1: Union[m21.chord.Chord, Sequence[Union[int, str]]],\n",
    "    pcset2: Union[m21.chord.Chord, Sequence[Union[int, str]]],\n",
    ") -> int:\n",
    "    \"\"\"Get the interval of transposition between two pitch class sets.\n",
    "\n",
    "    Args:\n",
    "        pcset1 (Union[chord.Chord, Sequence[Union[int, str]]]): First pitch class set.\n",
    "        pcset2 (Union[chord.Chord, Sequence[Union[int, str]]]): Second pitch class set.\n",
    "\n",
    "    Returns:\n",
    "        int: the interval of transposition between the two pitch class sets.\n",
    "    \"\"\"\n",
    "    \n",
    "    if not isinstance(pcset1, m21.chord.Chord):\n",
    "        pcset1 = m21.chord.Chord(pcset1)\n",
    "        \n",
    "    if not isinstance(pcset2, m21.chord.Chord):\n",
    "        pcset2 = m21.chord.Chord(pcset2)\n",
    "        \n",
    "    return pcset2.normalOrder[0] - pcset1.normalOrder[0]\n",
    "    "
   ]
  },
  {
   "cell_type": "code",
   "execution_count": 8,
   "metadata": {},
   "outputs": [],
   "source": [
    "# From the segmentation, manually input the pitches to calculate the Forte class sets.\n",
    "\n",
    "sets = {\n",
    "    'bar 1': {\n",
    "        'M7_1': 'c f# c#',\n",
    "        '1': 'c g d f# c#',\n",
    "        '2': 'e f# g b d d#',\n",
    "        '1u2': 'c g d f# c# e b d#',\n",
    "        '3': 'g# d g b d# a#',\n",
    "        '3uM': 'g# d g b d# a# f e'\n",
    "    },\n",
    "    'bar 2': {\n",
    "        '1': 'bb a db g ab c',\n",
    "        '2': 'eb f c db gb bb',\n",
    "        '1u2': 'bb a db g ab c eb f gb',\n",
    "        '3': 'a eb ab d g db',\n",
    "        '3uM': 'a eb ab d g db b e', \n",
    "    },\n",
    "    'bar 3': {\n",
    "        '1': 'db a c b',\n",
    "        '2': 'd f gb bb eb',\n",
    "        '1u2': 'db a c b d f gb bb eb',\n",
    "        '3': 'bb e a eb cb ab c',\n",
    "        'M': 'f c cb db d',\n",
    "        '3uM': 'bb e a eb cb ab c f db d',\n",
    "    },\n",
    "    'bar 4': {\n",
    "        '0': 'g f# c f bb',\n",
    "        '1': 'a g# d g',\n",
    "        '2': 'd f# b# c# g bb',\n",
    "        '1u2': 'a g# d g f# b# c# bb',\n",
    "    },\n",
    "    'bar 4-5': {\n",
    "        '0': 'd g# b e# f# d# f e',\n",
    "        '1': 'e bb b f# a eb',\n",
    "        '2': 'a d g# d# g',\n",
    "        '1u2': 'e bb b f# a d g# d# g',\n",
    "    },\n",
    "    'bar 6': {\n",
    "        'cl-b': 'g# a c',\n",
    "        'cl-t': 'eb g ab d',\n",
    "        'cl': 'g# a c eb g ab d',\n",
    "    },\n",
    "    'bar 7': {\n",
    "        'cl': 'c eb g ab d',\n",
    "    },\n",
    "    'bar 8': {\n",
    "        '1(-M)': 'b f# c# f',\n",
    "        '1': 'b f# c# f c',\n",
    "        '2': 'a c db f gb bb',\n",
    "        '1u2': 'b f# c# f c a db gb bb',\n",
    "        '3': 'eb g ab d',\n",
    "        '3uM': 'eb g ab d cb bb'\n",
    "    },\n",
    "    'bar 9': {\n",
    "        '1': 'ab d g f#',\n",
    "        '2': 'eb g f# bb d',\n",
    "        '1u2': 'ab d g f# eb bb',\n",
    "    },\n",
    "    'bar 10': {\n",
    "        'M7_1': 'f# c f',\n",
    "        '1': 'f# c f e',\n",
    "        '2': 'f# a# d f g c#',\n",
    "        '1u2': 'f# c f e a# d g c#',\n",
    "    },\n",
    "    'bar 11': {\n",
    "        'M7_1': 'f# c f',\n",
    "        'M7_2': 'g d g#',\n",
    "        'M7_3': 'a d# g#',\n",
    "        '0': 'f# c f a d# g#',\n",
    "        '1': 'g d g# c# f#',\n",
    "        '2': 'c# g# d c f# g',\n",
    "        '1u2': 'g d g# c# f# c',\n",
    "        '3': 'a d# g# a# c# g f#'\n",
    "    },\n",
    "    'bar 12': {\n",
    "        '0': 'b f# g f c# c',\n",
    "        '1u2': 'eb d g c f ab cb'\n",
    "    },\n",
    "    'bar 13 (1-3)': {\n",
    "        '3': 'b f# g# bb f a',\n",
    "        '3uM': 'b f# g# bb f a e eb',\n",
    "    },\n",
    "    'bar 13 (3-5)': {\n",
    "        '1': 'a ab c f# g b',\n",
    "        '2': 'c e b f a',\n",
    "        '1u2': 'a ab c f# g b e f',\n",
    "        '3': 'ab d g f# c',\n",
    "        '3uM': 'ab d g f# c bb eb',\n",
    "    },\n",
    "    'bar 14': {\n",
    "        '1': 'c ab b bb',\n",
    "        '2': 'db e f a d',\n",
    "        '1u2': 'c ab b bb db e f a d',\n",
    "        '3': 'a eb ab bb d g b',\n",
    "        'M': 'e b bb c db',\n",
    "        '3uM': 'a eb ab bb d g b e c db',\n",
    "    },\n",
    "    'bar 15': {\n",
    "        '0': 'gb f b e a',\n",
    "        '1': 'ab g c# f#',\n",
    "        '2': 'c# e# b c f# a',\n",
    "        '1u2': 'ab g c# f# e# b c a'\n",
    "    },\n",
    "    'bar 15-16': {\n",
    "        '0': 'f e eb a# d',\n",
    "        '0.1': 'c a db ab',\n",
    "        '0.2': 'c g b d f# c#',\n",
    "        '1': 'bb e b eb',\n",
    "        '2': 'a eb ab d c',\n",
    "        '1u2': 'bb e b eb a ab d c',\n",
    "    },\n",
    "    'bar 17': {\n",
    "        'cl': 'g c# f c',\n",
    "    },\n",
    "    'bar 18': {\n",
    "        'cl-b': 'd a eb g c#',\n",
    "        'cl-t': 'd c# g',\n",
    "        'cl': 'd a eb g c#',\n",
    "    },\n",
    "    'bar 19': {\n",
    "        'cl-b': 'd a eb g c#',\n",
    "        'cl-t': 'f# c f a d# g#',\n",
    "        'cl': 'd a eb g c# f# c f g#'\n",
    "    }\n",
    "}\n",
    "\n",
    "sets_forte = {}\n",
    "\n",
    "for group in sets:\n",
    "    sets_forte[group] = {}\n",
    "    for s in sets[group]:\n",
    "        sets_forte[group][s] = forte_class(sets[group][s].split())\n"
   ]
  },
  {
   "cell_type": "code",
   "execution_count": 9,
   "metadata": {},
   "outputs": [],
   "source": [
    "# create various dataframes to analyze the segments\n",
    "\n",
    "data_forte = pd.DataFrame.from_dict(sets_forte)\n",
    "counts = data_forte.replace(to_replace='A|B', value='', regex=True)\n",
    "counts = counts.apply(pd.Series.value_counts)\n",
    "total_counts = counts.sum(1)\n",
    "total_counts = total_counts.to_frame()\n",
    "total_counts.rename(columns={0: 'occurance'}, inplace=True)"
   ]
  },
  {
   "cell_type": "code",
   "execution_count": 10,
   "metadata": {},
   "outputs": [],
   "source": [
    "# analyse all the subsets of the segment sets\n",
    "\n",
    "sets_subsets = {}\n",
    "\n",
    "# calculate subsets\n",
    "for group in sets:\n",
    "    sets_subsets[group] = {}\n",
    "    for s in sets[group]:\n",
    "        chord = m21.chord.Chord(sets[group][s].split())\n",
    "        subsets = subsetscalc(chord)\n",
    "        sets_subsets[group][s] = subsets\n",
    "\n",
    "# count most common subsets\n",
    "counts_subsets = {}\n",
    "for group in sets_subsets:\n",
    "    for s in sets_subsets[group]:\n",
    "        for subset in sets_subsets[group][s]:\n",
    "            if subset in counts_subsets:\n",
    "                counts_subsets[subset] += 1\n",
    "            else:\n",
    "                counts_subsets[subset] = 1\n",
    "                \n",
    "# sort subsets by occurance\n",
    "counts_subsets = sorted(counts_subsets.items(), key=lambda x: x[1], reverse=True)\n",
    "\n",
    "# to dataframe\n",
    "counts_subsets = pd.DataFrame(counts_subsets, columns=['subset', 'occurance'])"
   ]
  },
  {
   "cell_type": "code",
   "execution_count": 11,
   "metadata": {},
   "outputs": [],
   "source": [
    "# a function to search for subset and identify which sets contain it\n",
    "def search_subset(subset):\n",
    "    sets_contain = {}\n",
    "    for group in sets_subsets:\n",
    "        for s in sets_subsets[group]:\n",
    "            if subset in sets_subsets[group][s]:\n",
    "                if group in sets_contain:\n",
    "                    sets_contain[group].append(s)\n",
    "                else:\n",
    "                    sets_contain[group] = [s]\n",
    "    return sets_contain"
   ]
  },
  {
   "cell_type": "code",
   "execution_count": 12,
   "metadata": {},
   "outputs": [
    {
     "name": "stdout",
     "output_type": "stream",
     "text": [
      "    subset  occurance\n",
      "0      3-5         68\n",
      "1      3-4         68\n",
      "2      3-8         63\n",
      "3      3-9         57\n",
      "4      3-1         56\n",
      "..     ...        ...\n",
      "196   8-27          1\n",
      "197   8-26          1\n",
      "198   8-23          1\n",
      "199   7-34          1\n",
      "200   7-35          1\n",
      "\n",
      "[201 rows x 2 columns]\n"
     ]
    }
   ],
   "source": [
    "print(counts_subsets)"
   ]
  },
  {
   "cell_type": "code",
   "execution_count": 13,
   "metadata": {},
   "outputs": [
    {
     "data": {
      "text/plain": [
       "{'bar 1': ['1', '2', '1u2', '3', '3uM'],\n",
       " 'bar 2': ['1', '2', '1u2', '3', '3uM'],\n",
       " 'bar 3': ['2', '1u2', '3', 'M', '3uM'],\n",
       " 'bar 4': ['0', '2', '1u2'],\n",
       " 'bar 4-5': ['0', '1', '2', '1u2'],\n",
       " 'bar 6': ['cl-t', 'cl'],\n",
       " 'bar 7': ['cl'],\n",
       " 'bar 8': ['1(-M)', '1', '2', '1u2', '3', '3uM'],\n",
       " 'bar 9': ['1', '2', '1u2'],\n",
       " 'bar 10': ['1', '2', '1u2'],\n",
       " 'bar 11': ['1', '2', '1u2', '3'],\n",
       " 'bar 12': ['0', '1u2'],\n",
       " 'bar 13 (1-3)': ['3', '3uM'],\n",
       " 'bar 13 (3-5)': ['1', '2', '1u2', '3', '3uM'],\n",
       " 'bar 14': ['2', '1u2', '3', 'M', '3uM'],\n",
       " 'bar 15': ['0', '2', '1u2'],\n",
       " 'bar 15-16': ['0', '0.1', '0.2', '1', '1u2'],\n",
       " 'bar 17': ['cl'],\n",
       " 'bar 18': ['cl-b', 'cl'],\n",
       " 'bar 19': ['cl-b', 'cl']}"
      ]
     },
     "execution_count": 13,
     "metadata": {},
     "output_type": "execute_result"
    }
   ],
   "source": [
    "# find occurances of 3-4\n",
    "search_subset('3-4')"
   ]
  },
  {
   "cell_type": "code",
   "execution_count": 14,
   "metadata": {},
   "outputs": [
    {
     "data": {
      "text/plain": [
       "{'bar 1': ['1', '1u2', '3', '3uM'],\n",
       " 'bar 2': ['1', '2', '1u2', '3', '3uM'],\n",
       " 'bar 3': ['1u2', '3', 'M', '3uM'],\n",
       " 'bar 4': ['0', '1', '2', '1u2'],\n",
       " 'bar 4-5': ['0', '1', '2', '1u2'],\n",
       " 'bar 6': ['cl-t', 'cl'],\n",
       " 'bar 7': ['cl'],\n",
       " 'bar 8': ['1(-M)', '1', '2', '1u2', '3', '3uM'],\n",
       " 'bar 9': ['1', '1u2'],\n",
       " 'bar 10': ['1', '2', '1u2'],\n",
       " 'bar 11': ['0', '1', '2', '1u2', '3'],\n",
       " 'bar 12': ['0', '1u2'],\n",
       " 'bar 13 (1-3)': ['3', '3uM'],\n",
       " 'bar 13 (3-5)': ['1', '2', '1u2', '3', '3uM'],\n",
       " 'bar 14': ['1u2', '3', 'M', '3uM'],\n",
       " 'bar 15': ['0', '1', '2', '1u2'],\n",
       " 'bar 15-16': ['0', '0.2', '1', '2', '1u2'],\n",
       " 'bar 17': ['cl'],\n",
       " 'bar 18': ['cl-b', 'cl'],\n",
       " 'bar 19': ['cl-b', 'cl-t', 'cl']}"
      ]
     },
     "execution_count": 14,
     "metadata": {},
     "output_type": "execute_result"
    }
   ],
   "source": [
    "# find occurances of 3-5\n",
    "search_subset('3-5')"
   ]
  },
  {
   "cell_type": "code",
   "execution_count": 15,
   "metadata": {},
   "outputs": [
    {
     "data": {
      "text/plain": [
       "{'bar 1': ['1', '1u2', '3', '3uM'],\n",
       " 'bar 2': ['1', '2', '1u2', '3', '3uM'],\n",
       " 'bar 3': ['1u2', '3', '3uM'],\n",
       " 'bar 4': ['2', '1u2'],\n",
       " 'bar 4-5': ['1', '2', '1u2'],\n",
       " 'bar 6': ['cl'],\n",
       " 'bar 7': ['cl'],\n",
       " 'bar 8': ['1', '2', '1u2', '3uM'],\n",
       " 'bar 9': ['1u2'],\n",
       " 'bar 10': ['2', '1u2'],\n",
       " 'bar 11': ['1', '2', '1u2'],\n",
       " 'bar 12': ['0', '1u2'],\n",
       " 'bar 13 (1-3)': ['3', '3uM'],\n",
       " 'bar 13 (3-5)': ['1', '2', '1u2', '3uM'],\n",
       " 'bar 14': ['1u2', '3', '3uM'],\n",
       " 'bar 15': ['2', '1u2'],\n",
       " 'bar 15-16': ['0.2', '1u2'],\n",
       " 'bar 19': ['cl']}"
      ]
     },
     "execution_count": 15,
     "metadata": {},
     "output_type": "execute_result"
    }
   ],
   "source": [
    "# find occurances of 4-8\n",
    "search_subset('4-8')"
   ]
  },
  {
   "cell_type": "code",
   "execution_count": 16,
   "metadata": {},
   "outputs": [
    {
     "name": "stdout",
     "output_type": "stream",
     "text": [
      "3-4A\n",
      "3-5A\n"
     ]
    }
   ],
   "source": [
    "print(m21.chord.Chord([0,1,5]).forteClass)\n",
    "print(m21.chord.Chord([0,1,6]).forteClass)"
   ]
  },
  {
   "cell_type": "code",
   "execution_count": 17,
   "metadata": {},
   "outputs": [
    {
     "name": "stdout",
     "output_type": "stream",
     "text": [
      "3-5A\n",
      "3-5B\n"
     ]
    }
   ],
   "source": [
    "# bar 1, examinging 5-7 and 8-18 for 3-5\n",
    "print(m21.chord.Chord(['c','f#','c#']).forteClass)\n",
    "print(m21.chord.Chord(['g#','d','g']).forteClass)"
   ]
  },
  {
   "cell_type": "code",
   "execution_count": 18,
   "metadata": {},
   "outputs": [
    {
     "name": "stdout",
     "output_type": "stream",
     "text": [
      "3-5A\n",
      "3-5A\n"
     ]
    }
   ],
   "source": [
    "# bar 12, examinging 6-7 and 7-32 for 3-5\n",
    "print(m21.chord.Chord(['f#','b','f']).forteClass)\n",
    "print(m21.chord.Chord(['eb','d','ab']).forteClass)"
   ]
  },
  {
   "cell_type": "code",
   "execution_count": 19,
   "metadata": {},
   "outputs": [
    {
     "name": "stdout",
     "output_type": "stream",
     "text": [
      "3-5A\n",
      "3-4A\n"
     ]
    }
   ],
   "source": [
    "# bar 6, contains both forte class 3-4 and 3-5\n",
    "print(m21.chord.Chord(['eb', 'ab', 'd']).forteClass)\n",
    "print(m21.chord.Chord(['eb', 'g', 'd']).forteClass)\n"
   ]
  },
  {
   "cell_type": "code",
   "execution_count": 20,
   "metadata": {},
   "outputs": [
    {
     "name": "stdout",
     "output_type": "stream",
     "text": [
      "3-4A\n",
      "3-5A\n"
     ]
    }
   ],
   "source": [
    "# bar 14, examining forte class 5-4\n",
    "print(m21.chord.Chord(['e', 'c', 'b']).forteClass)\n",
    "\n",
    "# bar 14, also contains 3-5\n",
    "print(m21.chord.Chord(['e', 'b', 'bb']).forteClass)"
   ]
  },
  {
   "cell_type": "code",
   "execution_count": 21,
   "metadata": {},
   "outputs": [
    {
     "name": "stdout",
     "output_type": "stream",
     "text": [
      "3-4A\n"
     ]
    }
   ],
   "source": [
    "# bar 2, examining forte class 6-7\n",
    "print(m21.chord.Chord(['d', 'eb', 'g']).forteClass)"
   ]
  },
  {
   "cell_type": "code",
   "execution_count": 24,
   "metadata": {},
   "outputs": [
    {
     "name": "stdout",
     "output_type": "stream",
     "text": [
      "['3-4', '3-5']\n"
     ]
    }
   ],
   "source": [
    "subsets_4_8 = subsetscalc(m21.chord.Chord(['eb', 'g', 'ab','d']))\n",
    "print(subsets_4_8)"
   ]
  },
  {
   "cell_type": "code",
   "execution_count": null,
   "metadata": {},
   "outputs": [],
   "source": [
    "subsets_4_16 = subsets(m21.chord.Chord(['D','E','C#','F','C']))\n",
    "print(subsets_4_8)\n",
    "print(m21.chord.Chord(['D','G','C#','F','C']).forteClass)"
   ]
  }
 ],
 "metadata": {
  "kernelspec": {
   "display_name": ".venv",
   "language": "python",
   "name": "python3"
  },
  "language_info": {
   "codemirror_mode": {
    "name": "ipython",
    "version": 3
   },
   "file_extension": ".py",
   "mimetype": "text/x-python",
   "name": "python",
   "nbconvert_exporter": "python",
   "pygments_lexer": "ipython3",
   "version": "3.11.3"
  }
 },
 "nbformat": 4,
 "nbformat_minor": 2
}
